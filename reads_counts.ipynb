{
 "cells": [
  {
   "cell_type": "code",
   "execution_count": 1,
   "metadata": {},
   "outputs": [],
   "source": [
    "import numpy as np\n",
    "import pandas as pd\n",
    "libs = ['0A','0B','1A','1B','2A','2B','3A','3B','5A','5B','8A','8B']\n",
    "FapR_reads1,FapR_reads2,FapR_reads = {},{},{}\n",
    "for lib in libs:\n",
    "    file_c1 = 'Sequence_Result1/'+'FapR_Lib'+lib+'.csv'\n",
    "    file_c2 = 'Sequence_Result2/'+'FapR_Lib'+lib+'.csv'\n",
    "    FapR_reads1['Lib_'+lib] = pd.read_csv(file_c1,sep = ',', index_col='Combination')\n",
    "    FapR_reads2['Lib_'+lib] = pd.read_csv(file_c2,sep = ',', index_col='Combination')\n",
    "    FapR_reads['Lib_'+lib] = FapR_reads1['Lib_'+lib]+FapR_reads2['Lib_'+lib]"
   ]
  },
  {
   "cell_type": "code",
   "execution_count": 2,
   "metadata": {},
   "outputs": [],
   "source": [
    "bins_Lst = ['P2','P3','P4','P5','P6','P7','P8','P9']\n",
    "reads_count_sum1, reads_count_sum2, reads_count_sum = {},{},{}\n",
    "for lib in libs:\n",
    "    reads_count_sum1['Lib_'+lib] = FapR_reads1['Lib_'+lib][bins_Lst].sum().sum()\n",
    "    reads_count_sum2['Lib_'+lib] = FapR_reads2['Lib_'+lib][bins_Lst].sum().sum()\n",
    "    reads_count_sum['Lib_'+lib] = FapR_reads['Lib_'+lib][bins_Lst].sum().sum()"
   ]
  },
  {
   "cell_type": "code",
   "execution_count": 3,
   "metadata": {},
   "outputs": [],
   "source": [
    "reads_count_sum2_df = pd.DataFrame.from_dict(reads_count_sum2,orient='index')"
   ]
  },
  {
   "cell_type": "code",
   "execution_count": 4,
   "metadata": {},
   "outputs": [],
   "source": [
    "reads_count_sum2_df.to_excel('ExportResults/reads_count_sum2.xlsx')"
   ]
  },
  {
   "cell_type": "code",
   "execution_count": null,
   "metadata": {},
   "outputs": [],
   "source": []
  }
 ],
 "metadata": {
  "kernelspec": {
   "display_name": "Python 3",
   "language": "python",
   "name": "python3"
  },
  "language_info": {
   "codemirror_mode": {
    "name": "ipython",
    "version": 3
   },
   "file_extension": ".py",
   "mimetype": "text/x-python",
   "name": "python",
   "nbconvert_exporter": "python",
   "pygments_lexer": "ipython3",
   "version": "3.8.5"
  }
 },
 "nbformat": 4,
 "nbformat_minor": 4
}
